{
 "cells": [
  {
   "cell_type": "code",
   "execution_count": 5,
   "metadata": {},
   "outputs": [
    {
     "data": {
      "text/plain": [
       "(2233, 14)"
      ]
     },
     "execution_count": 5,
     "metadata": {},
     "output_type": "execute_result"
    }
   ],
   "source": [
    "import pandas as pd\n",
    "import numpy as np\n",
    "import matplotlib.pyplot as plt\n",
    "import datetime\n",
    "import plotly.express as px\n",
    "\n",
    "\n",
    "pd.options.display.float_format='{:,.2f}'.format\n",
    "data=pd.read_csv('..\\zoopla_scraper\\zoopla_scraper\\spiders\\zoopla_edinburgh.csv')\n",
    "data.index.rename('property_index',inplace=True)\n",
    "\n",
    "#Converting string data to datetime.date\n",
    "data['available_from']=pd.to_datetime(data['available_from'],errors='coerce')\n",
    "data['available_from']=data['available_from'].dt.date\n",
    "data['incorporation_date']=pd.to_datetime(data['incorporation_date'],errors='coerce')\n",
    "data['incorporation_date']=data['incorporation_date'].dt.date\n",
    "\n",
    "data.shape"
   ]
  },
  {
   "cell_type": "code",
   "execution_count": 7,
   "metadata": {},
   "outputs": [
    {
     "name": "stdout",
     "output_type": "stream",
     "text": [
      "Number of agents: 121\n",
      "Number of properties: 2228\n"
     ]
    }
   ],
   "source": [
    "#Brief analysis about number of letting agents \n",
    "#and number of properties available to rent\n",
    "# In total there are 121 agents and 2228 properties\n",
    "\n",
    "number_of_agents=data['letting_agent_name'].value_counts().count()\n",
    "number_of_properties=data['letting_agent_name'].value_counts().sum()\n",
    "print('Number of agents: {}'.format(number_of_agents))\n",
    "print('Number of properties: {}'.format(number_of_properties))"
   ]
  },
  {
   "cell_type": "code",
   "execution_count": 8,
   "metadata": {},
   "outputs": [
    {
     "data": {
      "text/plain": [
       "Text(0.5, 0, 'Date')"
      ]
     },
     "execution_count": 8,
     "metadata": {},
     "output_type": "execute_result"
    },
    {
     "data": {
      "image/png": "[encoded data removed]",
      "text/plain": [
       "<Figure size 640x480 with 1 Axes>"
      ]
     },
     "metadata": {},
     "output_type": "display_data"
    }
   ],
   "source": [
    "#Sundays are the day when least properties are published and then it starts increasing towards \n",
    "#the days reaching its peak on Wenesdays\n",
    "plt.bar(data.groupby('incorporation_date').count()['price'][1:].index,data.groupby('incorporation_date').count()['price'][1:],linestyle='--',\n",
    "color='r',linewidth=5)\n",
    "plt.xticks(rotation=90,ha='right')\n",
    "plt.ylabel('New properties',fontweight='heavy')\n",
    "plt.xlabel('Date',fontweight='heavy')\n"
   ]
  },
  {
   "cell_type": "code",
   "execution_count": 9,
   "metadata": {},
   "outputs": [
    {
     "data": {
      "text/plain": [
       "OpenRent                                     0.20\n",
       "Homelike Internet GmbH                       0.13\n",
       "Braemore Sales and Lettings                  0.06\n",
       "DJ Alexander Lettings Ltd                    0.04\n",
       "Southside Property Management                0.04\n",
       "Murray & Currie Property                     0.04\n",
       "Grant Property                               0.04\n",
       "Staykeepers                                  0.03\n",
       "Zone Letting Limited                         0.02\n",
       "Northwood Residential Lettings (Edinburgh)   0.02\n",
       "Name: Market share by agency. First 10 agencies, dtype: float64"
      ]
     },
     "execution_count": 9,
     "metadata": {},
     "output_type": "execute_result"
    }
   ],
   "source": [
    "#Market share in % for the 10 biggest agencies\n",
    "#It can be seen that OpenRent and Homelike Internet GmbH are the two biggest, encompasing 33% of the market. As far \n",
    "# as I know these are short term let agencies.\n",
    "# Looking at the rest of the agencies, it is evident the no agency has a dominant stake of the rent market.\n",
    "market_share=data['letting_agent_name'].value_counts().head(10)/data['letting_agent_name'].value_counts().sum()\n",
    "market_share=market_share.rename('Market share by agency. First 10 agencies')\n",
    "market_share"
   ]
  }
 ],
 "metadata": {
  "kernelspec": {
   "display_name": "Python 3.8.13 ('property_analysis')",
   "language": "python",
   "name": "python3"
  },
  "language_info": {
   "codemirror_mode": {
    "name": "ipython",
    "version": 3
   },
   "file_extension": ".py",
   "mimetype": "text/x-python",
   "name": "python",
   "nbconvert_exporter": "python",
   "pygments_lexer": "ipython3",
   "version": "3.8.13"
  },
  "orig_nbformat": 4,
  "vscode": {
   "interpreter": {
    "hash": "abf3cf9a0603deaebdcd2dddac517f06b2ce96ef1f4f553afa873d21dfde7a4e"
   }
  }
 },
 "nbformat": 4,
 "nbformat_minor": 2
}
