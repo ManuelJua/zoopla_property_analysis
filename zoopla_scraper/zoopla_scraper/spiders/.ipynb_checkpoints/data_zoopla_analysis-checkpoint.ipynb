{
 "cells": [
  {
   "cell_type": "code",
   "execution_count": 8,
   "metadata": {},
   "outputs": [
    {
     "data": {
      "text/html": [
       "<div>\n",
       "<style scoped>\n",
       "    .dataframe tbody tr th:only-of-type {\n",
       "        vertical-align: middle;\n",
       "    }\n",
       "\n",
       "    .dataframe tbody tr th {\n",
       "        vertical-align: top;\n",
       "    }\n",
       "\n",
       "    .dataframe thead th {\n",
       "        text-align: right;\n",
       "    }\n",
       "</style>\n",
       "<table border=\"1\" class=\"dataframe\">\n",
       "  <thead>\n",
       "    <tr style=\"text-align: right;\">\n",
       "      <th></th>\n",
       "      <th>title</th>\n",
       "      <th>address</th>\n",
       "      <th>price</th>\n",
       "      <th>description</th>\n",
       "      <th>features</th>\n",
       "      <th>number_beds</th>\n",
       "      <th>number_baths</th>\n",
       "      <th>images</th>\n",
       "      <th>letting_agent_name</th>\n",
       "      <th>available_from</th>\n",
       "    </tr>\n",
       "    <tr>\n",
       "      <th>property_index</th>\n",
       "      <th></th>\n",
       "      <th></th>\n",
       "      <th></th>\n",
       "      <th></th>\n",
       "      <th></th>\n",
       "      <th></th>\n",
       "      <th></th>\n",
       "      <th></th>\n",
       "      <th></th>\n",
       "      <th></th>\n",
       "    </tr>\n",
       "  </thead>\n",
       "  <tbody>\n",
       "    <tr>\n",
       "      <th>0</th>\n",
       "      <td>2 bed flat to rent</td>\n",
       "      <td>Jeffrey Avenue, Edinburgh EH4</td>\n",
       "      <td>£2,330 pcm</td>\n",
       "      <td>Homelike is an online booking platform for fur...</td>\n",
       "      <td>Furnished,Flatscreen TV,Hair dryer,Heating,Tow...</td>\n",
       "      <td>2 beds</td>\n",
       "      <td>1 bath</td>\n",
       "      <td>https://lid.zoocdn.com/u/480/360/c81534016bbee...</td>\n",
       "      <td>Homelike Internet GmbH</td>\n",
       "      <td>Available from 02 January 2022</td>\n",
       "    </tr>\n",
       "    <tr>\n",
       "      <th>1</th>\n",
       "      <td>1 bed flat to rent</td>\n",
       "      <td>Jordan Lane, Edinburgh EH10</td>\n",
       "      <td>£725 pcm</td>\n",
       "      <td>Well presented 1 bed apartment in prime locati...</td>\n",
       "      <td>Furnished,Fridge Freezer,Washing Machine,Elect...</td>\n",
       "      <td>1 bed</td>\n",
       "      <td>NaN</td>\n",
       "      <td>https://lid.zoocdn.com/u/480/360/927ab17ecb101...</td>\n",
       "      <td>Zone Letting Limited</td>\n",
       "      <td>Available immediately</td>\n",
       "    </tr>\n",
       "    <tr>\n",
       "      <th>2</th>\n",
       "      <td>3 bed flat to rent</td>\n",
       "      <td>Tower Place, Leith, Edinburgh EH6</td>\n",
       "      <td>£1,300 pcm</td>\n",
       "      <td>This beautiful three bedroom flat comes availa...</td>\n",
       "      <td>Unfurnished,Central Heating,Shower,Double Glaz...</td>\n",
       "      <td>3 beds</td>\n",
       "      <td>1 bath</td>\n",
       "      <td>https://lid.zoocdn.com/u/480/360/2eb812e8ad46a...</td>\n",
       "      <td>The Property Letting Centre</td>\n",
       "      <td>Available immediately</td>\n",
       "    </tr>\n",
       "    <tr>\n",
       "      <th>3</th>\n",
       "      <td>2 bed flat to rent</td>\n",
       "      <td>Sheriff Brae, The Shore, Edinburgh EH6</td>\n",
       "      <td>£995 pcm</td>\n",
       "      <td>**Available 15th December** Well presented, 2 ...</td>\n",
       "      <td>Furnished,Dishwasher,Central Heating,Shower,Do...</td>\n",
       "      <td>2 beds</td>\n",
       "      <td>1 bath</td>\n",
       "      <td>https://lid.zoocdn.com/u/480/360/b428619d9bf04...</td>\n",
       "      <td>Clan Gordon Ltd</td>\n",
       "      <td>Available from 15 December 2021</td>\n",
       "    </tr>\n",
       "    <tr>\n",
       "      <th>4</th>\n",
       "      <td>2 bed flat to rent</td>\n",
       "      <td>Western Harbour View, Newhaven, Edinburgh EH6</td>\n",
       "      <td>£1,000 pcm</td>\n",
       "      <td>Register to view property to receive virtual t...</td>\n",
       "      <td>Furnished,Double Glazing,No Smoking</td>\n",
       "      <td>2 beds</td>\n",
       "      <td>2 baths</td>\n",
       "      <td>https://lid.zoocdn.com/u/480/360/834477ecc5268...</td>\n",
       "      <td>Belvoir Edinburgh</td>\n",
       "      <td>Available from 17 January 2022</td>\n",
       "    </tr>\n",
       "  </tbody>\n",
       "</table>\n",
       "</div>"
      ],
      "text/plain": [
       "                             title  \\\n",
       "property_index                       \n",
       "0               2 bed flat to rent   \n",
       "1               1 bed flat to rent   \n",
       "2               3 bed flat to rent   \n",
       "3               2 bed flat to rent   \n",
       "4               2 bed flat to rent   \n",
       "\n",
       "                                                      address       price  \\\n",
       "property_index                                                              \n",
       "0                               Jeffrey Avenue, Edinburgh EH4  £2,330 pcm   \n",
       "1                                 Jordan Lane, Edinburgh EH10    £725 pcm   \n",
       "2                           Tower Place, Leith, Edinburgh EH6  £1,300 pcm   \n",
       "3                      Sheriff Brae, The Shore, Edinburgh EH6    £995 pcm   \n",
       "4               Western Harbour View, Newhaven, Edinburgh EH6  £1,000 pcm   \n",
       "\n",
       "                                                      description  \\\n",
       "property_index                                                      \n",
       "0               Homelike is an online booking platform for fur...   \n",
       "1               Well presented 1 bed apartment in prime locati...   \n",
       "2               This beautiful three bedroom flat comes availa...   \n",
       "3               **Available 15th December** Well presented, 2 ...   \n",
       "4               Register to view property to receive virtual t...   \n",
       "\n",
       "                                                         features number_beds  \\\n",
       "property_index                                                                  \n",
       "0               Furnished,Flatscreen TV,Hair dryer,Heating,Tow...      2 beds   \n",
       "1               Furnished,Fridge Freezer,Washing Machine,Elect...       1 bed   \n",
       "2               Unfurnished,Central Heating,Shower,Double Glaz...      3 beds   \n",
       "3               Furnished,Dishwasher,Central Heating,Shower,Do...      2 beds   \n",
       "4                             Furnished,Double Glazing,No Smoking      2 beds   \n",
       "\n",
       "               number_baths  \\\n",
       "property_index                \n",
       "0                    1 bath   \n",
       "1                       NaN   \n",
       "2                    1 bath   \n",
       "3                    1 bath   \n",
       "4                   2 baths   \n",
       "\n",
       "                                                           images  \\\n",
       "property_index                                                      \n",
       "0               https://lid.zoocdn.com/u/480/360/c81534016bbee...   \n",
       "1               https://lid.zoocdn.com/u/480/360/927ab17ecb101...   \n",
       "2               https://lid.zoocdn.com/u/480/360/2eb812e8ad46a...   \n",
       "3               https://lid.zoocdn.com/u/480/360/b428619d9bf04...   \n",
       "4               https://lid.zoocdn.com/u/480/360/834477ecc5268...   \n",
       "\n",
       "                         letting_agent_name                   available_from  \n",
       "property_index                                                                \n",
       "0                    Homelike Internet GmbH   Available from 02 January 2022  \n",
       "1                      Zone Letting Limited            Available immediately  \n",
       "2               The Property Letting Centre            Available immediately  \n",
       "3                           Clan Gordon Ltd  Available from 15 December 2021  \n",
       "4                         Belvoir Edinburgh   Available from 17 January 2022  "
      ]
     },
     "execution_count": 8,
     "metadata": {},
     "output_type": "execute_result"
    }
   ],
   "source": [
    "import pandas as pd\n",
    "data=pd.read_csv('data_zoopla_edinburgh.csv')\n",
    "data.index.rename('property_index',inplace=True)\n",
    "data.head()"
   ]
  },
  {
   "cell_type": "code",
   "execution_count": 9,
   "metadata": {},
   "outputs": [
    {
     "name": "stderr",
     "output_type": "stream",
     "text": [
      "C:\\Users\\usuario\\AppData\\Local\\Temp/ipykernel_11248/814890878.py:1: FutureWarning: The default value of regex will change from True to False in a future version.\n",
      "  data['price']=data['price'].str.replace('[£, pcmw]','')\n",
      "C:\\Users\\usuario\\AppData\\Local\\Temp/ipykernel_11248/814890878.py:2: FutureWarning: The default value of regex will change from True to False in a future version.\n",
      "  data['number_beds']=data['number_beds'].str.replace('[beds ]','')\n",
      "C:\\Users\\usuario\\AppData\\Local\\Temp/ipykernel_11248/814890878.py:3: FutureWarning: The default value of regex will change from True to False in a future version.\n",
      "  data['number_baths']=data['number_baths'].str.replace('[ baths]','')\n"
     ]
    }
   ],
   "source": [
    "data['price']=data['price'].str.replace('[£, pcmw]','')\n",
    "data['number_beds']=data['number_beds'].str.replace('[beds ]','')\n",
    "data['number_baths']=data['number_baths'].str.replace('[ baths]','')\n",
    "\n",
    "data['price']=pd.to_numeric(data['price'])\n",
    "data['number_beds']=pd.to_numeric(data['number_beds'])\n",
    "data['number_baths']=pd.to_numeric(data['number_baths'])"
   ]
  },
  {
   "cell_type": "code",
   "execution_count": 10,
   "metadata": {},
   "outputs": [
    {
     "name": "stderr",
     "output_type": "stream",
     "text": [
      "C:\\Users\\usuario\\AppData\\Local\\Temp/ipykernel_11248/2937408805.py:1: FutureWarning: The default value of regex will change from True to False in a future version.\n",
      "  data['available_from']=data['available_from'].str.replace(r'(Available from )?','')\n"
     ]
    }
   ],
   "source": [
    "data['available_from']=data['available_from'].str.replace(r'(Available from )?','')\n",
    "data['available_from']=pd.to_datetime(data['available_from'],errors='coerce')\n",
    "data['available_from'].fillna(pd.to_datetime('today'),inplace=True)\n"
   ]
  },
  {
   "cell_type": "code",
   "execution_count": 11,
   "metadata": {},
   "outputs": [
    {
     "data": {
      "text/plain": [
       "DJ Alexander Lettings Ltd                     65\n",
       "Southside Property Management                 33\n",
       "Homelike Internet GmbH                        26\n",
       "Murray & Currie Property                      21\n",
       "OpenRent                                      16\n",
       "Houst Lets                                    15\n",
       "Rooks Estate Agents & Lettings                15\n",
       "Ben Property Management Ltd                   14\n",
       "Gilson Gray LLP                               13\n",
       "Northwood Residential Lettings (Edinburgh)     9\n",
       "Clan Gordon Ltd                                8\n",
       "Marchside Property                             7\n",
       "Accommodation.co.uk                            7\n",
       "The Property Letting Centre                    6\n",
       "Grant Property                                 6\n",
       "Zone Letting Limited                           6\n",
       "Clyde Property, Edinburgh                      5\n",
       "ACE Property Management                        5\n",
       "Easylet                                        5\n",
       "Arden Property Management                      5\n",
       "Name: letting_agent_name, dtype: int64"
      ]
     },
     "execution_count": 11,
     "metadata": {},
     "output_type": "execute_result"
    }
   ],
   "source": [
    "data['letting_agent_name'].value_counts().head(20)\n"
   ]
  },
  {
   "cell_type": "code",
   "execution_count": 12,
   "metadata": {},
   "outputs": [],
   "source": [
    "data['images']=data['images'].str.split(',')\n"
   ]
  },
  {
   "cell_type": "code",
   "execution_count": 15,
   "metadata": {},
   "outputs": [
    {
     "data": {
      "text/plain": [
       "property_index\n",
       "0      [https://lid.zoocdn.com/u/480/360/c81534016bbe...\n",
       "1      [https://lid.zoocdn.com/u/480/360/927ab17ecb10...\n",
       "2      [https://lid.zoocdn.com/u/480/360/2eb812e8ad46...\n",
       "3      [https://lid.zoocdn.com/u/480/360/b428619d9bf0...\n",
       "4      [https://lid.zoocdn.com/u/480/360/834477ecc526...\n",
       "                             ...                        \n",
       "391    [https://lid.zoocdn.com/u/480/360/1e34859b885c...\n",
       "392    [https://lid.zoocdn.com/u/480/360/cfaa26173239...\n",
       "393    [https://lid.zoocdn.com/u/480/360/e46763eee0a4...\n",
       "394    [https://lid.zoocdn.com/u/480/360/67693e701edd...\n",
       "395    [https://lid.zoocdn.com/u/480/360/1abce30b79f6...\n",
       "Name: images, Length: 396, dtype: object"
      ]
     },
     "execution_count": 15,
     "metadata": {},
     "output_type": "execute_result"
    }
   ],
   "source": [
    "data['images']"
   ]
  },
  {
   "cell_type": "code",
   "execution_count": null,
   "metadata": {},
   "outputs": [],
   "source": []
  }
 ],
 "metadata": {
  "interpreter": {
   "hash": "c446ddd83af36fc01aab2b533d93a7f4bd5fb15c3102c2de835f62aca8c0a54c"
  },
  "kernelspec": {
   "display_name": "Python 3 (ipykernel)",
   "language": "python",
   "name": "python3"
  },
  "language_info": {
   "codemirror_mode": {
    "name": "ipython",
    "version": 3
   },
   "file_extension": ".py",
   "mimetype": "text/x-python",
   "name": "python",
   "nbconvert_exporter": "python",
   "pygments_lexer": "ipython3",
   "version": "3.9.9"
  }
 },
 "nbformat": 4,
 "nbformat_minor": 2
}
