{
 "cells": [
  {
   "cell_type": "code",
   "execution_count": 25,
   "metadata": {},
   "outputs": [
    {
     "data": {
      "text/html": [
       "<div>\n",
       "<style scoped>\n",
       "    .dataframe tbody tr th:only-of-type {\n",
       "        vertical-align: middle;\n",
       "    }\n",
       "\n",
       "    .dataframe tbody tr th {\n",
       "        vertical-align: top;\n",
       "    }\n",
       "\n",
       "    .dataframe thead th {\n",
       "        text-align: right;\n",
       "    }\n",
       "</style>\n",
       "<table border=\"1\" class=\"dataframe\">\n",
       "  <thead>\n",
       "    <tr style=\"text-align: right;\">\n",
       "      <th></th>\n",
       "      <th>title</th>\n",
       "      <th>address</th>\n",
       "      <th>latitude</th>\n",
       "      <th>longitude</th>\n",
       "      <th>price</th>\n",
       "      <th>description</th>\n",
       "      <th>features</th>\n",
       "      <th>number_beds</th>\n",
       "      <th>number_baths</th>\n",
       "      <th>images</th>\n",
       "      <th>letting_agent_name</th>\n",
       "      <th>available_from</th>\n",
       "    </tr>\n",
       "    <tr>\n",
       "      <th>property_index</th>\n",
       "      <th></th>\n",
       "      <th></th>\n",
       "      <th></th>\n",
       "      <th></th>\n",
       "      <th></th>\n",
       "      <th></th>\n",
       "      <th></th>\n",
       "      <th></th>\n",
       "      <th></th>\n",
       "      <th></th>\n",
       "      <th></th>\n",
       "      <th></th>\n",
       "    </tr>\n",
       "  </thead>\n",
       "  <tbody>\n",
       "    <tr>\n",
       "      <th>0</th>\n",
       "      <td>2 bed flat to rent</td>\n",
       "      <td>Orchard Brae Avenue, Edinburgh EH4</td>\n",
       "      <td>NaN</td>\n",
       "      <td>NaN</td>\n",
       "      <td>£950 pcm</td>\n",
       "      <td>Stunning double two bedroom, fully furnished a...</td>\n",
       "      <td>Furnished,Central Heating,Private Parking</td>\n",
       "      <td>2 beds</td>\n",
       "      <td>NaN</td>\n",
       "      <td>https://lid.zoocdn.com/u/480/360/de9ff26fa8a20...</td>\n",
       "      <td>Northwood Residential Lettings (Edinburgh)</td>\n",
       "      <td>Available from 19 January 2022</td>\n",
       "    </tr>\n",
       "    <tr>\n",
       "      <th>1</th>\n",
       "      <td>1 bed flat to rent</td>\n",
       "      <td>Drumdryan Street, 3F2, Edinburgh, City Of Edin...</td>\n",
       "      <td>NaN</td>\n",
       "      <td>NaN</td>\n",
       "      <td>£1,100 pcm</td>\n",
       "      <td>Available now – furnished – no pets – no stude...</td>\n",
       "      <td>NaN</td>\n",
       "      <td>1 bed</td>\n",
       "      <td>1 bath</td>\n",
       "      <td>https://lid.zoocdn.com/u/480/360/a5a93c8c685e4...</td>\n",
       "      <td>Clyde Property, Edinburgh</td>\n",
       "      <td>Available immediately</td>\n",
       "    </tr>\n",
       "    <tr>\n",
       "      <th>2</th>\n",
       "      <td>2 bed flat to rent</td>\n",
       "      <td>Parkhead Loan, Saughton, Edinburgh EH11</td>\n",
       "      <td>NaN</td>\n",
       "      <td>NaN</td>\n",
       "      <td>£875 pcm</td>\n",
       "      <td>Two bedroom property in Parkhead, Edinburgh, E...</td>\n",
       "      <td>Part furnished,Central Heating,No Smoking,No p...</td>\n",
       "      <td>2 beds</td>\n",
       "      <td>NaN</td>\n",
       "      <td>https://lid.zoocdn.com/u/480/360/335dc83f702c8...</td>\n",
       "      <td>Milards</td>\n",
       "      <td>Available from 17 December 2021</td>\n",
       "    </tr>\n",
       "    <tr>\n",
       "      <th>3</th>\n",
       "      <td>2 bed flat to rent</td>\n",
       "      <td>Springfield, Edinburgh EH6</td>\n",
       "      <td>NaN</td>\n",
       "      <td>NaN</td>\n",
       "      <td>£900 pcm</td>\n",
       "      <td>Property Reference: 1276989.,Bright modern, fu...</td>\n",
       "      <td>Furnished,No Agent Fees,Property Reference Num...</td>\n",
       "      <td>2 beds</td>\n",
       "      <td>1 bath</td>\n",
       "      <td>https://lid.zoocdn.com/u/480/360/24fbdf3eb834c...</td>\n",
       "      <td>OpenRent</td>\n",
       "      <td>Available from 08 January 2022</td>\n",
       "    </tr>\n",
       "    <tr>\n",
       "      <th>4</th>\n",
       "      <td>3 bed flat to rent</td>\n",
       "      <td>Avon Road, Cramond, Edinburgh EH4</td>\n",
       "      <td>NaN</td>\n",
       "      <td>NaN</td>\n",
       "      <td>£1,250 pcm</td>\n",
       "      <td>This spacious property is accessed via a well ...</td>\n",
       "      <td>Furnished,Central Heating,Private Parking,Park...</td>\n",
       "      <td>3 beds</td>\n",
       "      <td>NaN</td>\n",
       "      <td>https://lid.zoocdn.com/u/480/360/e9a54640963c7...</td>\n",
       "      <td>Connell &amp; McFadden</td>\n",
       "      <td>Available from 03 January 2022</td>\n",
       "    </tr>\n",
       "  </tbody>\n",
       "</table>\n",
       "</div>"
      ],
      "text/plain": [
       "                             title  \\\n",
       "property_index                       \n",
       "0               2 bed flat to rent   \n",
       "1               1 bed flat to rent   \n",
       "2               2 bed flat to rent   \n",
       "3               2 bed flat to rent   \n",
       "4               3 bed flat to rent   \n",
       "\n",
       "                                                          address  latitude  \\\n",
       "property_index                                                                \n",
       "0                              Orchard Brae Avenue, Edinburgh EH4       NaN   \n",
       "1               Drumdryan Street, 3F2, Edinburgh, City Of Edin...       NaN   \n",
       "2                         Parkhead Loan, Saughton, Edinburgh EH11       NaN   \n",
       "3                                      Springfield, Edinburgh EH6       NaN   \n",
       "4                               Avon Road, Cramond, Edinburgh EH4       NaN   \n",
       "\n",
       "                longitude       price  \\\n",
       "property_index                          \n",
       "0                     NaN    £950 pcm   \n",
       "1                     NaN  £1,100 pcm   \n",
       "2                     NaN    £875 pcm   \n",
       "3                     NaN    £900 pcm   \n",
       "4                     NaN  £1,250 pcm   \n",
       "\n",
       "                                                      description  \\\n",
       "property_index                                                      \n",
       "0               Stunning double two bedroom, fully furnished a...   \n",
       "1               Available now – furnished – no pets – no stude...   \n",
       "2               Two bedroom property in Parkhead, Edinburgh, E...   \n",
       "3               Property Reference: 1276989.,Bright modern, fu...   \n",
       "4               This spacious property is accessed via a well ...   \n",
       "\n",
       "                                                         features number_beds  \\\n",
       "property_index                                                                  \n",
       "0                       Furnished,Central Heating,Private Parking      2 beds   \n",
       "1                                                             NaN       1 bed   \n",
       "2               Part furnished,Central Heating,No Smoking,No p...      2 beds   \n",
       "3               Furnished,No Agent Fees,Property Reference Num...      2 beds   \n",
       "4               Furnished,Central Heating,Private Parking,Park...      3 beds   \n",
       "\n",
       "               number_baths  \\\n",
       "property_index                \n",
       "0                       NaN   \n",
       "1                    1 bath   \n",
       "2                       NaN   \n",
       "3                    1 bath   \n",
       "4                       NaN   \n",
       "\n",
       "                                                           images  \\\n",
       "property_index                                                      \n",
       "0               https://lid.zoocdn.com/u/480/360/de9ff26fa8a20...   \n",
       "1               https://lid.zoocdn.com/u/480/360/a5a93c8c685e4...   \n",
       "2               https://lid.zoocdn.com/u/480/360/335dc83f702c8...   \n",
       "3               https://lid.zoocdn.com/u/480/360/24fbdf3eb834c...   \n",
       "4               https://lid.zoocdn.com/u/480/360/e9a54640963c7...   \n",
       "\n",
       "                                        letting_agent_name  \\\n",
       "property_index                                               \n",
       "0               Northwood Residential Lettings (Edinburgh)   \n",
       "1                                Clyde Property, Edinburgh   \n",
       "2                                                  Milards   \n",
       "3                                                 OpenRent   \n",
       "4                                       Connell & McFadden   \n",
       "\n",
       "                                 available_from  \n",
       "property_index                                   \n",
       "0                Available from 19 January 2022  \n",
       "1                         Available immediately  \n",
       "2               Available from 17 December 2021  \n",
       "3                Available from 08 January 2022  \n",
       "4                Available from 03 January 2022  "
      ]
     },
     "execution_count": 25,
     "metadata": {},
     "output_type": "execute_result"
    }
   ],
   "source": [
    "import pandas as pd\n",
    "import numpy as np\n",
    "import matplotlib.pyplot as plt\n",
    "pd.options.display.float_format='{:,.2f}'.format\n",
    "data=pd.read_csv('data_zoopla_edinburgh.csv')\n",
    "data.index.rename('property_index',inplace=True)\n",
    "data.head()"
   ]
  },
  {
   "cell_type": "code",
   "execution_count": 26,
   "metadata": {},
   "outputs": [
    {
     "name": "stderr",
     "output_type": "stream",
     "text": [
      "C:\\Users\\usuario\\AppData\\Local\\Temp/ipykernel_4436/938247417.py:4: FutureWarning: The default value of regex will change from True to False in a future version.\n",
      "  data['price']=data['price'].str.replace('[£, pcmw]','')\n",
      "C:\\Users\\usuario\\AppData\\Local\\Temp/ipykernel_4436/938247417.py:5: FutureWarning: The default value of regex will change from True to False in a future version.\n",
      "  data['number_beds']=data['number_beds'].str.replace('[beds ]','')\n",
      "C:\\Users\\usuario\\AppData\\Local\\Temp/ipykernel_4436/938247417.py:6: FutureWarning: The default value of regex will change from True to False in a future version.\n",
      "  data['number_baths']=data['number_baths'].str.replace('[ baths]','')\n"
     ]
    }
   ],
   "source": [
    "#Cleaning columns 'price','number_beds' and 'number_baths' \n",
    "#and converting them to numeric values\n",
    "\n",
    "data['price']=data['price'].str.replace('[£, pcmw]','')\n",
    "data['number_beds']=data['number_beds'].str.replace('[beds ]','')\n",
    "data['number_baths']=data['number_baths'].str.replace('[ baths]','')\n",
    "\n",
    "data['price']=pd.to_numeric(data['price'])\n",
    "data['number_beds']=pd.to_numeric(data['number_beds'])\n",
    "data['number_baths']=pd.to_numeric(data['number_baths'])"
   ]
  },
  {
   "cell_type": "code",
   "execution_count": 27,
   "metadata": {},
   "outputs": [
    {
     "name": "stderr",
     "output_type": "stream",
     "text": [
      "C:\\Users\\usuario\\AppData\\Local\\Temp/ipykernel_4436/864117803.py:4: FutureWarning: The default value of regex will change from True to False in a future version.\n",
      "  data['available_from']=data['available_from'].str.replace(r'(Available from )?','')\n"
     ]
    }
   ],
   "source": [
    "#Cleaning columns 'available_from' \n",
    "#and converting it to datetime values\n",
    "\n",
    "data['available_from']=data['available_from'].str.replace(r'(Available from )?','')\n",
    "data['available_from']=pd.to_datetime(data['available_from'],errors='coerce')\n",
    "data['available_from'].fillna(pd.to_datetime('today'),inplace=True)\n"
   ]
  },
  {
   "cell_type": "code",
   "execution_count": 28,
   "metadata": {},
   "outputs": [
    {
     "name": "stdout",
     "output_type": "stream",
     "text": [
      "Number of agents: 85\n",
      "Number of properties: 446\n"
     ]
    }
   ],
   "source": [
    "#Brief analysis about number of letting agents \n",
    "#and number of properties available to rent\n",
    "\n",
    "number_of_agents=data['letting_agent_name'].value_counts().count()\n",
    "number_of_properties=data['letting_agent_name'].value_counts().sum()\n",
    "print('Number of agents: {}'.format(number_of_agents))\n",
    "print('Number of properties: {}'.format(number_of_properties))"
   ]
  },
  {
   "cell_type": "code",
   "execution_count": 29,
   "metadata": {},
   "outputs": [
    {
     "data": {
      "text/plain": [
       "DJ Alexander Lettings Ltd                    0.15\n",
       "Homelike Internet GmbH                       0.08\n",
       "Southside Property Management                0.08\n",
       "Murray & Currie Property                     0.05\n",
       "Houst Lets                                   0.04\n",
       "Ben Property Management Ltd                  0.04\n",
       "Rooks Estate Agents & Lettings               0.03\n",
       "OpenRent                                     0.03\n",
       "Northwood Residential Lettings (Edinburgh)   0.03\n",
       "Gilson Gray LLP                              0.03\n",
       "Name: Market share by agency. First 10 agencies, dtype: float64"
      ]
     },
     "execution_count": 29,
     "metadata": {},
     "output_type": "execute_result"
    }
   ],
   "source": [
    "#Market share in % for the 10 biggest agencies\n",
    "\n",
    "market_share=data['letting_agent_name'].value_counts().head(10)/data['letting_agent_name'].value_counts().sum()\n",
    "market_share=market_share.rename('Market share by agency. First 10 agencies')\n",
    "market_share"
   ]
  },
  {
   "cell_type": "code",
   "execution_count": 30,
   "metadata": {},
   "outputs": [
    {
     "data": {
      "text/plain": [
       "property_index\n",
       "0      [https://lid.zoocdn.com/u/480/360/de9ff26fa8a2...\n",
       "1      [https://lid.zoocdn.com/u/480/360/a5a93c8c685e...\n",
       "2      [https://lid.zoocdn.com/u/480/360/335dc83f702c...\n",
       "3      [https://lid.zoocdn.com/u/480/360/24fbdf3eb834...\n",
       "4      [https://lid.zoocdn.com/u/480/360/e9a54640963c...\n",
       "                             ...                        \n",
       "441    [https://lid.zoocdn.com/u/480/360/93ef38af110c...\n",
       "442    [https://lid.zoocdn.com/u/480/360/4fcaeee76637...\n",
       "443    [https://lid.zoocdn.com/u/480/360/61d1a88dc9e4...\n",
       "444    [https://lid.zoocdn.com/u/480/360/5d5416bce32b...\n",
       "445    [https://lid.zoocdn.com/u/480/360/df56751592e7...\n",
       "Name: images, Length: 446, dtype: object"
      ]
     },
     "execution_count": 30,
     "metadata": {},
     "output_type": "execute_result"
    }
   ],
   "source": [
    "#Splitting images urls. This need more processing\n",
    "data['images']=data['images'].str.split(',')\n",
    "data['images']"
   ]
  },
  {
   "cell_type": "code",
   "execution_count": 31,
   "metadata": {},
   "outputs": [
    {
     "data": {
      "text/plain": [
       "0.2533632286995516"
      ]
     },
     "execution_count": 31,
     "metadata": {},
     "output_type": "execute_result"
    }
   ],
   "source": [
    "# Data available about coordinates\n",
    "(data[['latitude','longitude']].dropna().shape)[0]/(data[['latitude','longitude']].shape)[0]\n",
    "\n",
    "# Only 25% of the properties have coordinates. Another API that produces better results\n",
    "# must be evaluated"
   ]
  },
  {
   "cell_type": "code",
   "execution_count": 32,
   "metadata": {},
   "outputs": [
    {
     "data": {
      "text/plain": [
       "<AxesSubplot:ylabel='Frequency'>"
      ]
     },
     "execution_count": 32,
     "metadata": {},
     "output_type": "execute_result"
    },
    {
     "data": {
      "image/png": "[encoded data removed]",
      "text/plain": [
       "<Figure size 432x288 with 1 Axes>"
      ]
     },
     "metadata": {
      "needs_background": "light"
     },
     "output_type": "display_data"
    }
   ],
   "source": [
    "#First histogram of rent prices\n",
    "\n",
    "data['price'].plot(kind='hist')\n",
    "\n",
    "#Most of the properties have rents below 2500pcm"
   ]
  },
  {
   "cell_type": "code",
   "execution_count": 33,
   "metadata": {},
   "outputs": [
    {
     "data": {
      "text/plain": [
       "Text(0.5, 1.0, 'Distribution of rent (properties below 2500 pcm) [pcm]')"
      ]
     },
     "execution_count": 33,
     "metadata": {},
     "output_type": "execute_result"
    },
    {
     "data": {
      "image/png": "[encoded data removed]",
      "text/plain": [
       "<Figure size 720x360 with 1 Axes>"
      ]
     },
     "metadata": {
      "needs_background": "light"
     },
     "output_type": "display_data"
    }
   ],
   "source": [
    "#Histogram with rents below 2500pcm\n",
    "\n",
    "fig,ax=plt.subplots(figsize=(10,5))\n",
    "\n",
    "data_less_2500=data[data['price']<=2500]\n",
    "\n",
    "ax.hist(data_less_2500['price'],bins=np.arange(0,2500,125))\n",
    "ax.set_xticks(np.arange(0,2500,250))\n",
    "ax.set_xlabel('Monthly rent',fontsize=12,fontweight='heavy')\n",
    "ax.set_ylabel('Number of properties available',fontsize=12,fontweight='heavy')\n",
    "ax.set_title('Distribution of rent (properties below 2500 pcm) [pcm]',\n",
    "fontsize=16,fontweight='heavy')\n",
    "\n",
    "#There is a huge offer for properties from above 750pcm"
   ]
  },
  {
   "cell_type": "code",
   "execution_count": 34,
   "metadata": {},
   "outputs": [
    {
     "name": "stderr",
     "output_type": "stream",
     "text": [
      "C:\\Users\\usuario\\AppData\\Local\\Temp/ipykernel_4436/1530548904.py:3: FutureWarning: The pandas.datetime class is deprecated and will be removed from pandas in a future version. Import from datetime module instead.\n",
      "  data['waiting_period_days']=data['available_from'].apply(lambda x:(x-pd.datetime.now()).days)\n"
     ]
    },
    {
     "data": {
      "text/plain": [
       "Text(0.5, 1.0, 'Waiting time distribution [days]')"
      ]
     },
     "execution_count": 34,
     "metadata": {},
     "output_type": "execute_result"
    },
    {
     "data": {
      "image/png": "[encoded data removed]",
      "text/plain": [
       "<Figure size 432x288 with 1 Axes>"
      ]
     },
     "metadata": {
      "needs_background": "light"
     },
     "output_type": "display_data"
    }
   ],
   "source": [
    "fig,ax=plt.subplots()\n",
    "\n",
    "data['waiting_period_days']=data['available_from'].apply(lambda x:(x-pd.datetime.now()).days)\n",
    "\n",
    "waiting_period_days_after_3_days=data[(data['waiting_period_days']<100) & (data['waiting_period_days']>3)]['waiting_period_days']\n",
    "waiting_period_days_after_3_days\n",
    "ax.hist(waiting_period_days_after_3_days.values,bins=np.arange(0,100,10))\n",
    "ax.set_xticks(np.arange(0,100,10))\n",
    "ax.set_xlabel('Waiting period (days)',fontsize=12,fontweight='heavy')\n",
    "ax.set_ylabel('Number of properties available',fontsize=12,fontweight='heavy')\n",
    "ax.set_title('Waiting time distribution [days]',fontsize=16,fontweight='heavy')\n"
   ]
  },
  {
   "cell_type": "code",
   "execution_count": 35,
   "metadata": {},
   "outputs": [],
   "source": [
    "#Let's do the same analysis segmenting by different types of properties and prices"
   ]
  },
  {
   "cell_type": "code",
   "execution_count": 36,
   "metadata": {},
   "outputs": [],
   "source": [
    "#Splitting the properties in four different segments accoirding to their price\n",
    "\n",
    "data_500_1000=data[(data['price']>500) & (data['price']<=1000)]\n",
    "data_1000_1500=data[(data['price']>1000) & (data['price']<=1500)]\n",
    "data_1500_2000=data[(data['price']>1500)& (data['price']<=2000)]\n",
    "data_2000_3000=data[(data['price']>2000)& (data['price']<=3000)]"
   ]
  },
  {
   "cell_type": "code",
   "execution_count": 37,
   "metadata": {},
   "outputs": [
    {
     "data": {
      "text/plain": [
       "Text(0.5, 0, 'Monthly rent [pcm]')"
      ]
     },
     "execution_count": 37,
     "metadata": {},
     "output_type": "execute_result"
    },
    {
     "data": {
      "image/png": "[encoded data removed]",
      "text/plain": [
       "<Figure size 720x720 with 4 Axes>"
      ]
     },
     "metadata": {
      "needs_background": "light"
     },
     "output_type": "display_data"
    }
   ],
   "source": [
    "#Bar plots of price distribution segmented by prices\n",
    "\n",
    "fig,ax=plt.subplots(2,2,figsize=(10,10),sharey=True)\n",
    "ax[0,0].hist(data_500_1000['price'],bins=np.arange(500,1100,100))\n",
    "ax[0,1].hist(data_1000_1500['price'],bins=np.arange(1000,1600,100))\n",
    "ax[1,0].hist(data_1500_2000['price'],bins=np.arange(1500,2100,100))\n",
    "ax[1,1].hist(data_2000_3000['price'],bins=np.arange(2000,3100,100))\n",
    "\n",
    "ax[0,0].set_ylabel('Number of Properties',fontsize=12,fontweight='heavy')\n",
    "ax[1,0].set_ylabel('Number of Properties',fontsize=12,fontweight='heavy')\n",
    "ax[1,0].set_xlabel('Monthly rent [pcm]',fontsize=12,fontweight='heavy')\n",
    "ax[1,1].set_xlabel('Monthly rent [pcm]',fontsize=12,fontweight='heavy')\n",
    "\n",
    "# This seems just a confirmation of what the first price distribution showed.\n",
    "# For the segment between 500 and 1000 pcm there is an increase of properties available with the price.\n",
    "# For the rest of the segments the number of properties available is more less stable, \n",
    "# diminishing slowly as the price increases"
   ]
  },
  {
   "cell_type": "code",
   "execution_count": 38,
   "metadata": {},
   "outputs": [
    {
     "data": {
      "text/plain": [
       "Text(0.5, 0, 'Availability (2000-3000pcm) [days]')"
      ]
     },
     "execution_count": 38,
     "metadata": {},
     "output_type": "execute_result"
    },
    {
     "data": {
      "image/png": "[encoded data removed]",
      "text/plain": [
       "<Figure size 720x504 with 4 Axes>"
      ]
     },
     "metadata": {
      "needs_background": "light"
     },
     "output_type": "display_data"
    }
   ],
   "source": [
    "fig,ax=plt.subplots(2,2,figsize=(10,7),sharey=True)\n",
    "ax[0,0].hist(data_500_1000[(data_500_1000['waiting_period_days']>3) & (data_500_1000['waiting_period_days']<70)]['waiting_period_days'])\n",
    "ax[0,1].hist(data_1000_1500[(data_1000_1500['waiting_period_days']>3) & (data_1000_1500['waiting_period_days']<70)]['waiting_period_days'])\n",
    "ax[1,0].hist(data_1500_2000[(data_1500_2000['waiting_period_days']>3) & (data_1500_2000['waiting_period_days']<70)]['waiting_period_days'])\n",
    "ax[1,1].hist(data_2000_3000[(data_2000_3000['waiting_period_days']>3) & (data_2000_3000['waiting_period_days']<70)]['waiting_period_days'])\n",
    "\n",
    "ax[0,0].set_ylabel('Number of Properties',fontsize=12,fontweight='heavy')\n",
    "ax[1,0].set_ylabel('Number of Properties',fontsize=12,fontweight='heavy')\n",
    "\n",
    "ax[0,0].set_xlabel('Availability (500-1000pcm) [days]',fontsize=12,fontweight='heavy')\n",
    "ax[0,1].set_xlabel('Availability (1000-1500pcm) [days]',fontsize=12,fontweight='heavy')\n",
    "ax[1,0].set_xlabel('Availability (1500-2000pcm) [days]',fontsize=12,fontweight='heavy')\n",
    "ax[1,1].set_xlabel('Availability (2000-3000pcm) [days]',fontsize=12,fontweight='heavy')\n",
    "\n",
    "#Seems that in most cases the properties are available to be taken in the first 30 days,\n",
    "#except for the properties above 2000pcm. The waiting time is under 20 days for most of them"
   ]
  },
  {
   "cell_type": "code",
   "execution_count": 107,
   "metadata": {},
   "outputs": [
    {
     "data": {
      "text/plain": [
       "<matplotlib.legend.Legend at 0x183479432e0>"
      ]
     },
     "execution_count": 107,
     "metadata": {},
     "output_type": "execute_result"
    },
    {
     "data": {
      "image/png": "[encoded data removed]",
      "text/plain": [
       "<Figure size 432x288 with 2 Axes>"
      ]
     },
     "metadata": {
      "needs_background": "light"
     },
     "output_type": "display_data"
    }
   ],
   "source": [
    "data_by_beds=data.groupby('number_beds')[['price','waiting_period_days']].agg({'price':['count','mean'],'waiting_period_days':'mean'})\n",
    "\n",
    "fig,ax=plt.subplots()\n",
    "ax.plot(data_by_beds.index,data_by_beds['price']['mean'],linestyle='-',marker='o',label='Rent')\n",
    "ax.set_xlabel('Number of beds',fontsize=12)\n",
    "ax.set_ylabel('Rent [pcm]',fontsize=12)\n",
    "ax.set_title('Rent price vs number of beds',fontsize=14,fontweight='heavy')\n",
    "ax.legend(loc=1)\n",
    "ax2=ax.twinx()\n",
    "ax2.plot(data_by_beds.index,data_by_beds['waiting_period_days']['mean'],linestyle='--',marker='x',label='Waiting period')\n",
    "ax2.set_ylabel('waiting period time [days]',fontsize=12)\n",
    "ax2.legend(loc=0)"
   ]
  },
  {
   "cell_type": "code",
   "execution_count": 87,
   "metadata": {},
   "outputs": [
    {
     "data": {
      "text/html": [
       "<div>\n",
       "<style scoped>\n",
       "    .dataframe tbody tr th:only-of-type {\n",
       "        vertical-align: middle;\n",
       "    }\n",
       "\n",
       "    .dataframe tbody tr th {\n",
       "        vertical-align: top;\n",
       "    }\n",
       "\n",
       "    .dataframe thead tr th {\n",
       "        text-align: left;\n",
       "    }\n",
       "\n",
       "    .dataframe thead tr:last-of-type th {\n",
       "        text-align: right;\n",
       "    }\n",
       "</style>\n",
       "<table border=\"1\" class=\"dataframe\">\n",
       "  <thead>\n",
       "    <tr>\n",
       "      <th></th>\n",
       "      <th colspan=\"2\" halign=\"left\">price</th>\n",
       "      <th>waiting_period_days</th>\n",
       "    </tr>\n",
       "    <tr>\n",
       "      <th></th>\n",
       "      <th>count</th>\n",
       "      <th>mean</th>\n",
       "      <th>mean</th>\n",
       "    </tr>\n",
       "    <tr>\n",
       "      <th>number_beds</th>\n",
       "      <th></th>\n",
       "      <th></th>\n",
       "      <th></th>\n",
       "    </tr>\n",
       "  </thead>\n",
       "  <tbody>\n",
       "    <tr>\n",
       "      <th>1.00</th>\n",
       "      <td>180</td>\n",
       "      <td>1,113.96</td>\n",
       "      <td>18.02</td>\n",
       "    </tr>\n",
       "    <tr>\n",
       "      <th>2.00</th>\n",
       "      <td>180</td>\n",
       "      <td>1,328.19</td>\n",
       "      <td>8.76</td>\n",
       "    </tr>\n",
       "    <tr>\n",
       "      <th>3.00</th>\n",
       "      <td>55</td>\n",
       "      <td>1,993.16</td>\n",
       "      <td>9.60</td>\n",
       "    </tr>\n",
       "    <tr>\n",
       "      <th>4.00</th>\n",
       "      <td>18</td>\n",
       "      <td>2,165.22</td>\n",
       "      <td>5.78</td>\n",
       "    </tr>\n",
       "    <tr>\n",
       "      <th>5.00</th>\n",
       "      <td>1</td>\n",
       "      <td>5,000.00</td>\n",
       "      <td>190.00</td>\n",
       "    </tr>\n",
       "    <tr>\n",
       "      <th>6.00</th>\n",
       "      <td>4</td>\n",
       "      <td>7,691.25</td>\n",
       "      <td>4.00</td>\n",
       "    </tr>\n",
       "  </tbody>\n",
       "</table>\n",
       "</div>"
      ],
      "text/plain": [
       "            price          waiting_period_days\n",
       "            count     mean                mean\n",
       "number_beds                                   \n",
       "1.00          180 1,113.96               18.02\n",
       "2.00          180 1,328.19                8.76\n",
       "3.00           55 1,993.16                9.60\n",
       "4.00           18 2,165.22                5.78\n",
       "5.00            1 5,000.00              190.00\n",
       "6.00            4 7,691.25                4.00"
      ]
     },
     "execution_count": 87,
     "metadata": {},
     "output_type": "execute_result"
    }
   ],
   "source": [
    "data_by_beds"
   ]
  },
  {
   "cell_type": "code",
   "execution_count": 65,
   "metadata": {},
   "outputs": [
    {
     "data": {
      "text/plain": [
       "Text(0.5, 1.0, 'Rent price vs number of beds')"
      ]
     },
     "execution_count": 65,
     "metadata": {},
     "output_type": "execute_result"
    },
    {
     "data": {
      "image/png": "[encoded data removed]",
      "text/plain": [
       "<Figure size 432x288 with 1 Axes>"
      ]
     },
     "metadata": {
      "needs_background": "light"
     },
     "output_type": "display_data"
    }
   ],
   "source": [
    "data_by_baths=data.groupby('number_baths')[['price','waiting_period_days']].agg({'price':['count','mean'],'waiting_period_days':'mean'})\n",
    "fig,ax=plt.subplots()\n",
    "ax.plot(data_by_baths.index,data_by_baths['price']['mean'],linestyle='-',marker='o')\n",
    "ax.set_xlabel('Number of baths',fontsize=12)\n",
    "ax.set_ylabel('Rent [pcm]',fontsize=12)\n",
    "ax.set_title('Rent price vs number of beds',fontsize=14,fontweight='heavy')"
   ]
  },
  {
   "cell_type": "code",
   "execution_count": null,
   "metadata": {},
   "outputs": [],
   "source": []
  }
 ],
 "metadata": {
  "interpreter": {
   "hash": "c446ddd83af36fc01aab2b533d93a7f4bd5fb15c3102c2de835f62aca8c0a54c"
  },
  "kernelspec": {
   "display_name": "Python 3.9.9 64-bit (system)",
   "language": "python",
   "name": "python3"
  },
  "language_info": {
   "codemirror_mode": {
    "name": "ipython",
    "version": 3
   },
   "file_extension": ".py",
   "mimetype": "text/x-python",
   "name": "python",
   "nbconvert_exporter": "python",
   "pygments_lexer": "ipython3",
   "version": "3.9.9"
  },
  "orig_nbformat": 4
 },
 "nbformat": 4,
 "nbformat_minor": 2
}
