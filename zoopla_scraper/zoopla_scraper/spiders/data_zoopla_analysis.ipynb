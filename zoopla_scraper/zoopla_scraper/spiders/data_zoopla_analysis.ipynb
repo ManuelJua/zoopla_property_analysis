{
 "cells": [
  {
   "cell_type": "code",
   "execution_count": 286,
   "metadata": {},
   "outputs": [
    {
     "data": {
      "text/html": [
       "<div>\n",
       "<style scoped>\n",
       "    .dataframe tbody tr th:only-of-type {\n",
       "        vertical-align: middle;\n",
       "    }\n",
       "\n",
       "    .dataframe tbody tr th {\n",
       "        vertical-align: top;\n",
       "    }\n",
       "\n",
       "    .dataframe thead th {\n",
       "        text-align: right;\n",
       "    }\n",
       "</style>\n",
       "<table border=\"1\" class=\"dataframe\">\n",
       "  <thead>\n",
       "    <tr style=\"text-align: right;\">\n",
       "      <th></th>\n",
       "      <th>title</th>\n",
       "      <th>address</th>\n",
       "      <th>price</th>\n",
       "      <th>description</th>\n",
       "      <th>features</th>\n",
       "      <th>number_beds</th>\n",
       "      <th>number_baths</th>\n",
       "      <th>images</th>\n",
       "      <th>letting_agent_name</th>\n",
       "      <th>available_from</th>\n",
       "    </tr>\n",
       "    <tr>\n",
       "      <th>property_index</th>\n",
       "      <th></th>\n",
       "      <th></th>\n",
       "      <th></th>\n",
       "      <th></th>\n",
       "      <th></th>\n",
       "      <th></th>\n",
       "      <th></th>\n",
       "      <th></th>\n",
       "      <th></th>\n",
       "      <th></th>\n",
       "    </tr>\n",
       "  </thead>\n",
       "  <tbody>\n",
       "    <tr>\n",
       "      <th>0</th>\n",
       "      <td>2 bed flat to rent</td>\n",
       "      <td>Mayfield Road, Newington, Edinburgh EH9</td>\n",
       "      <td>£1,400 pcm</td>\n",
       "      <td>Fantastic property in Newington comprising two...</td>\n",
       "      <td>Furnished,Fridge Freezer,Dishwasher,Central He...</td>\n",
       "      <td>2 beds</td>\n",
       "      <td>1 bath</td>\n",
       "      <td>https://lid.zoocdn.com/u/480/360/9eb49fee0d69d...</td>\n",
       "      <td>Grant Property</td>\n",
       "      <td>Available from 25 February 2022</td>\n",
       "    </tr>\n",
       "    <tr>\n",
       "      <th>1</th>\n",
       "      <td>1 bed flat to rent</td>\n",
       "      <td>South Gyle Mains, South Gyle, Edinburgh EH12</td>\n",
       "      <td>£750 pcm</td>\n",
       "      <td>Well presented one double property in popular ...</td>\n",
       "      <td>Furnished,Central Heating,Double Glazing,No Sm...</td>\n",
       "      <td>1 bed</td>\n",
       "      <td>1 bath</td>\n",
       "      <td>https://lid.zoocdn.com/u/480/360/c808c8247e26a...</td>\n",
       "      <td>Cornerstone Letting</td>\n",
       "      <td>Available from 10 December 2021</td>\n",
       "    </tr>\n",
       "    <tr>\n",
       "      <th>2</th>\n",
       "      <td>2 bed flat to rent</td>\n",
       "      <td>Kimmerghame Terrace, Edinburgh EH4</td>\n",
       "      <td>£1,250 pcm</td>\n",
       "      <td>Scottish Letting Agent Registration Number: LA...</td>\n",
       "      <td>NaN</td>\n",
       "      <td>2 beds</td>\n",
       "      <td>2 baths</td>\n",
       "      <td>https://lid.zoocdn.com/u/480/360/b3101b6e49099...</td>\n",
       "      <td>Your Move - Edinburgh</td>\n",
       "      <td>Available from 20 December 2021</td>\n",
       "    </tr>\n",
       "    <tr>\n",
       "      <th>3</th>\n",
       "      <td>1 bed flat to rent</td>\n",
       "      <td>Wardlaw Street, Gorgie, Edinburgh EH11</td>\n",
       "      <td>£700 pcm</td>\n",
       "      <td>Tastefully presented ground floor flat, formin...</td>\n",
       "      <td>Furnished,Central Heating,Shower,Double Glazin...</td>\n",
       "      <td>1 bed</td>\n",
       "      <td>1 bath</td>\n",
       "      <td>https://lid.zoocdn.com/u/480/360/1abce30b79f6c...</td>\n",
       "      <td>Marchside Property</td>\n",
       "      <td>Available from 07 January 2022</td>\n",
       "    </tr>\n",
       "    <tr>\n",
       "      <th>4</th>\n",
       "      <td>4 bed detached house to rent</td>\n",
       "      <td>Craigcrook Grove, Blackhall, Edinburgh EH4</td>\n",
       "      <td>£2,995 pcm</td>\n",
       "      <td>This stunning property is located in a quiet c...</td>\n",
       "      <td>Unfurnished,Central Heating,Shower,Double Glaz...</td>\n",
       "      <td>4 beds</td>\n",
       "      <td>2 baths</td>\n",
       "      <td>https://lid.zoocdn.com/u/480/360/50378a1bbbc6b...</td>\n",
       "      <td>Gregor Fortune Property Ltd</td>\n",
       "      <td>Available from 07 January 2022</td>\n",
       "    </tr>\n",
       "  </tbody>\n",
       "</table>\n",
       "</div>"
      ],
      "text/plain": [
       "                                       title  \\\n",
       "property_index                                 \n",
       "0                         2 bed flat to rent   \n",
       "1                         1 bed flat to rent   \n",
       "2                         2 bed flat to rent   \n",
       "3                         1 bed flat to rent   \n",
       "4               4 bed detached house to rent   \n",
       "\n",
       "                                                     address       price  \\\n",
       "property_index                                                             \n",
       "0                    Mayfield Road, Newington, Edinburgh EH9  £1,400 pcm   \n",
       "1               South Gyle Mains, South Gyle, Edinburgh EH12    £750 pcm   \n",
       "2                         Kimmerghame Terrace, Edinburgh EH4  £1,250 pcm   \n",
       "3                     Wardlaw Street, Gorgie, Edinburgh EH11    £700 pcm   \n",
       "4                 Craigcrook Grove, Blackhall, Edinburgh EH4  £2,995 pcm   \n",
       "\n",
       "                                                      description  \\\n",
       "property_index                                                      \n",
       "0               Fantastic property in Newington comprising two...   \n",
       "1               Well presented one double property in popular ...   \n",
       "2               Scottish Letting Agent Registration Number: LA...   \n",
       "3               Tastefully presented ground floor flat, formin...   \n",
       "4               This stunning property is located in a quiet c...   \n",
       "\n",
       "                                                         features number_beds  \\\n",
       "property_index                                                                  \n",
       "0               Furnished,Fridge Freezer,Dishwasher,Central He...      2 beds   \n",
       "1               Furnished,Central Heating,Double Glazing,No Sm...       1 bed   \n",
       "2                                                             NaN      2 beds   \n",
       "3               Furnished,Central Heating,Shower,Double Glazin...       1 bed   \n",
       "4               Unfurnished,Central Heating,Shower,Double Glaz...      4 beds   \n",
       "\n",
       "               number_baths  \\\n",
       "property_index                \n",
       "0                    1 bath   \n",
       "1                    1 bath   \n",
       "2                   2 baths   \n",
       "3                    1 bath   \n",
       "4                   2 baths   \n",
       "\n",
       "                                                           images  \\\n",
       "property_index                                                      \n",
       "0               https://lid.zoocdn.com/u/480/360/9eb49fee0d69d...   \n",
       "1               https://lid.zoocdn.com/u/480/360/c808c8247e26a...   \n",
       "2               https://lid.zoocdn.com/u/480/360/b3101b6e49099...   \n",
       "3               https://lid.zoocdn.com/u/480/360/1abce30b79f6c...   \n",
       "4               https://lid.zoocdn.com/u/480/360/50378a1bbbc6b...   \n",
       "\n",
       "                         letting_agent_name                   available_from  \n",
       "property_index                                                                \n",
       "0                            Grant Property  Available from 25 February 2022  \n",
       "1                       Cornerstone Letting  Available from 10 December 2021  \n",
       "2                     Your Move - Edinburgh  Available from 20 December 2021  \n",
       "3                        Marchside Property   Available from 07 January 2022  \n",
       "4               Gregor Fortune Property Ltd   Available from 07 January 2022  "
      ]
     },
     "execution_count": 286,
     "metadata": {},
     "output_type": "execute_result"
    }
   ],
   "source": [
    "import pandas as pd\n",
    "data=pd.read_csv('data_zoopla_edinburgh.csv')\n",
    "data.index.rename('property_index',inplace=True)\n",
    "data.head()"
   ]
  },
  {
   "cell_type": "code",
   "execution_count": 287,
   "metadata": {},
   "outputs": [
    {
     "name": "stderr",
     "output_type": "stream",
     "text": [
      "C:\\Users\\usuario\\AppData\\Local\\Temp/ipykernel_9304/814890878.py:1: FutureWarning: The default value of regex will change from True to False in a future version.\n",
      "  data['price']=data['price'].str.replace('[£, pcmw]','')\n",
      "C:\\Users\\usuario\\AppData\\Local\\Temp/ipykernel_9304/814890878.py:2: FutureWarning: The default value of regex will change from True to False in a future version.\n",
      "  data['number_beds']=data['number_beds'].str.replace('[beds ]','')\n",
      "C:\\Users\\usuario\\AppData\\Local\\Temp/ipykernel_9304/814890878.py:3: FutureWarning: The default value of regex will change from True to False in a future version.\n",
      "  data['number_baths']=data['number_baths'].str.replace('[ baths]','')\n"
     ]
    }
   ],
   "source": [
    "data['price']=data['price'].str.replace('[£, pcmw]','')\n",
    "data['number_beds']=data['number_beds'].str.replace('[beds ]','')\n",
    "data['number_baths']=data['number_baths'].str.replace('[ baths]','')\n",
    "\n",
    "data['price']=pd.to_numeric(data['price'])\n",
    "data['number_beds']=pd.to_numeric(data['number_beds'])\n",
    "data['number_baths']=pd.to_numeric(data['number_baths'])"
   ]
  },
  {
   "cell_type": "code",
   "execution_count": 288,
   "metadata": {},
   "outputs": [
    {
     "name": "stderr",
     "output_type": "stream",
     "text": [
      "C:\\Users\\usuario\\AppData\\Local\\Temp/ipykernel_9304/2937408805.py:1: FutureWarning: The default value of regex will change from True to False in a future version.\n",
      "  data['available_from']=data['available_from'].str.replace(r'(Available from )?','')\n"
     ]
    }
   ],
   "source": [
    "data['available_from']=data['available_from'].str.replace(r'(Available from )?','')\n",
    "data['available_from']=pd.to_datetime(data['available_from'],errors='coerce')\n",
    "data['available_from'].fillna(pd.to_datetime('today'),inplace=True)\n"
   ]
  },
  {
   "cell_type": "code",
   "execution_count": 289,
   "metadata": {},
   "outputs": [
    {
     "data": {
      "text/plain": [
       "DJ Alexander Lettings Ltd                     65\n",
       "Southside Property Management                 33\n",
       "Murray & Currie Property                      21\n",
       "OpenRent                                      16\n",
       "Rooks Estate Agents & Lettings                15\n",
       "Houst Lets                                    15\n",
       "Ben Property Management Ltd                   14\n",
       "Homelike Internet GmbH                        13\n",
       "Gilson Gray LLP                               13\n",
       "Northwood Residential Lettings (Edinburgh)     9\n",
       "Clan Gordon Ltd                                8\n",
       "Marchside Property                             7\n",
       "The Property Letting Centre                    6\n",
       "Zone Letting Limited                           6\n",
       "Accommodation.co.uk                            6\n",
       "Grant Property                                 6\n",
       "Arden Property Management                      5\n",
       "Easylet                                        5\n",
       "Clyde Property, Edinburgh                      5\n",
       "ACE Property Management                        5\n",
       "Name: letting_agent_name, dtype: int64"
      ]
     },
     "execution_count": 289,
     "metadata": {},
     "output_type": "execute_result"
    }
   ],
   "source": [
    "data['letting_agent_name'].value_counts().head(20)\n"
   ]
  },
  {
   "cell_type": "code",
   "execution_count": 290,
   "metadata": {},
   "outputs": [],
   "source": [
    "data['images']=data['images'].str.split(',')\n"
   ]
  },
  {
   "cell_type": "code",
   "execution_count": 291,
   "metadata": {},
   "outputs": [
    {
     "data": {
      "text/plain": [
       "property_index\n",
       "0      [https://lid.zoocdn.com/u/480/360/9eb49fee0d69...\n",
       "1      [https://lid.zoocdn.com/u/480/360/c808c8247e26...\n",
       "2      [https://lid.zoocdn.com/u/480/360/b3101b6e4909...\n",
       "3      [https://lid.zoocdn.com/u/480/360/1abce30b79f6...\n",
       "4      [https://lid.zoocdn.com/u/480/360/50378a1bbbc6...\n",
       "                             ...                        \n",
       "377    [https://lid.zoocdn.com/u/480/360/52e45702a659...\n",
       "378    [https://lid.zoocdn.com/u/480/360/fe2ff342c581...\n",
       "379    [https://lid.zoocdn.com/u/480/360/d85e5ff05f18...\n",
       "380    [https://lid.zoocdn.com/u/480/360/2d56261ea6e2...\n",
       "381    [https://lid.zoocdn.com/u/480/360/46651bca196e...\n",
       "Name: images, Length: 382, dtype: object"
      ]
     },
     "execution_count": 291,
     "metadata": {},
     "output_type": "execute_result"
    }
   ],
   "source": [
    "data['images']\n"
   ]
  }
 ],
 "metadata": {
  "interpreter": {
   "hash": "c446ddd83af36fc01aab2b533d93a7f4bd5fb15c3102c2de835f62aca8c0a54c"
  },
  "kernelspec": {
   "display_name": "Python 3.9.9 64-bit (system)",
   "language": "python",
   "name": "python3"
  },
  "language_info": {
   "codemirror_mode": {
    "name": "ipython",
    "version": 3
   },
   "file_extension": ".py",
   "mimetype": "text/x-python",
   "name": "python",
   "nbconvert_exporter": "python",
   "pygments_lexer": "ipython3",
   "version": "3.9.9"
  },
  "orig_nbformat": 4
 },
 "nbformat": 4,
 "nbformat_minor": 2
}
