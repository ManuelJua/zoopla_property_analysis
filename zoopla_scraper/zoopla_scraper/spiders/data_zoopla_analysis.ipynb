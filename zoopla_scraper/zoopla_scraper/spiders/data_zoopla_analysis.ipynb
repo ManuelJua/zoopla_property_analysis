{
 "cells": [
  {
   "cell_type": "code",
   "execution_count": 38,
   "metadata": {},
   "outputs": [
    {
     "data": {
      "text/html": [
       "<div>\n",
       "<style scoped>\n",
       "    .dataframe tbody tr th:only-of-type {\n",
       "        vertical-align: middle;\n",
       "    }\n",
       "\n",
       "    .dataframe tbody tr th {\n",
       "        vertical-align: top;\n",
       "    }\n",
       "\n",
       "    .dataframe thead th {\n",
       "        text-align: right;\n",
       "    }\n",
       "</style>\n",
       "<table border=\"1\" class=\"dataframe\">\n",
       "  <thead>\n",
       "    <tr style=\"text-align: right;\">\n",
       "      <th></th>\n",
       "      <th>title</th>\n",
       "      <th>address</th>\n",
       "      <th>latitude</th>\n",
       "      <th>longitude</th>\n",
       "      <th>price</th>\n",
       "      <th>description</th>\n",
       "      <th>features</th>\n",
       "      <th>number_beds</th>\n",
       "      <th>number_baths</th>\n",
       "      <th>images</th>\n",
       "      <th>letting_agent_name</th>\n",
       "      <th>available_from</th>\n",
       "    </tr>\n",
       "    <tr>\n",
       "      <th>property_index</th>\n",
       "      <th></th>\n",
       "      <th></th>\n",
       "      <th></th>\n",
       "      <th></th>\n",
       "      <th></th>\n",
       "      <th></th>\n",
       "      <th></th>\n",
       "      <th></th>\n",
       "      <th></th>\n",
       "      <th></th>\n",
       "      <th></th>\n",
       "      <th></th>\n",
       "    </tr>\n",
       "  </thead>\n",
       "  <tbody>\n",
       "    <tr>\n",
       "      <th>0</th>\n",
       "      <td>2 bed flat to rent</td>\n",
       "      <td>Orchard Brae Avenue, Edinburgh EH4</td>\n",
       "      <td>NaN</td>\n",
       "      <td>NaN</td>\n",
       "      <td>£950 pcm</td>\n",
       "      <td>Stunning double two bedroom, fully furnished a...</td>\n",
       "      <td>Furnished,Central Heating,Private Parking</td>\n",
       "      <td>2 beds</td>\n",
       "      <td>NaN</td>\n",
       "      <td>https://lid.zoocdn.com/u/480/360/de9ff26fa8a20...</td>\n",
       "      <td>Northwood Residential Lettings (Edinburgh)</td>\n",
       "      <td>Available from 19 January 2022</td>\n",
       "    </tr>\n",
       "    <tr>\n",
       "      <th>1</th>\n",
       "      <td>1 bed flat to rent</td>\n",
       "      <td>Drumdryan Street, 3F2, Edinburgh, City Of Edin...</td>\n",
       "      <td>NaN</td>\n",
       "      <td>NaN</td>\n",
       "      <td>£1,100 pcm</td>\n",
       "      <td>Available now – furnished – no pets – no stude...</td>\n",
       "      <td>NaN</td>\n",
       "      <td>1 bed</td>\n",
       "      <td>1 bath</td>\n",
       "      <td>https://lid.zoocdn.com/u/480/360/a5a93c8c685e4...</td>\n",
       "      <td>Clyde Property, Edinburgh</td>\n",
       "      <td>Available immediately</td>\n",
       "    </tr>\n",
       "    <tr>\n",
       "      <th>2</th>\n",
       "      <td>2 bed flat to rent</td>\n",
       "      <td>Parkhead Loan, Saughton, Edinburgh EH11</td>\n",
       "      <td>NaN</td>\n",
       "      <td>NaN</td>\n",
       "      <td>£875 pcm</td>\n",
       "      <td>Two bedroom property in Parkhead, Edinburgh, E...</td>\n",
       "      <td>Part furnished,Central Heating,No Smoking,No p...</td>\n",
       "      <td>2 beds</td>\n",
       "      <td>NaN</td>\n",
       "      <td>https://lid.zoocdn.com/u/480/360/335dc83f702c8...</td>\n",
       "      <td>Milards</td>\n",
       "      <td>Available from 17 December 2021</td>\n",
       "    </tr>\n",
       "    <tr>\n",
       "      <th>3</th>\n",
       "      <td>2 bed flat to rent</td>\n",
       "      <td>Springfield, Edinburgh EH6</td>\n",
       "      <td>NaN</td>\n",
       "      <td>NaN</td>\n",
       "      <td>£900 pcm</td>\n",
       "      <td>Property Reference: 1276989.,Bright modern, fu...</td>\n",
       "      <td>Furnished,No Agent Fees,Property Reference Num...</td>\n",
       "      <td>2 beds</td>\n",
       "      <td>1 bath</td>\n",
       "      <td>https://lid.zoocdn.com/u/480/360/24fbdf3eb834c...</td>\n",
       "      <td>OpenRent</td>\n",
       "      <td>Available from 08 January 2022</td>\n",
       "    </tr>\n",
       "    <tr>\n",
       "      <th>4</th>\n",
       "      <td>3 bed flat to rent</td>\n",
       "      <td>Avon Road, Cramond, Edinburgh EH4</td>\n",
       "      <td>NaN</td>\n",
       "      <td>NaN</td>\n",
       "      <td>£1,250 pcm</td>\n",
       "      <td>This spacious property is accessed via a well ...</td>\n",
       "      <td>Furnished,Central Heating,Private Parking,Park...</td>\n",
       "      <td>3 beds</td>\n",
       "      <td>NaN</td>\n",
       "      <td>https://lid.zoocdn.com/u/480/360/e9a54640963c7...</td>\n",
       "      <td>Connell &amp; McFadden</td>\n",
       "      <td>Available from 03 January 2022</td>\n",
       "    </tr>\n",
       "  </tbody>\n",
       "</table>\n",
       "</div>"
      ],
      "text/plain": [
       "                             title  \\\n",
       "property_index                       \n",
       "0               2 bed flat to rent   \n",
       "1               1 bed flat to rent   \n",
       "2               2 bed flat to rent   \n",
       "3               2 bed flat to rent   \n",
       "4               3 bed flat to rent   \n",
       "\n",
       "                                                          address  latitude  \\\n",
       "property_index                                                                \n",
       "0                              Orchard Brae Avenue, Edinburgh EH4       NaN   \n",
       "1               Drumdryan Street, 3F2, Edinburgh, City Of Edin...       NaN   \n",
       "2                         Parkhead Loan, Saughton, Edinburgh EH11       NaN   \n",
       "3                                      Springfield, Edinburgh EH6       NaN   \n",
       "4                               Avon Road, Cramond, Edinburgh EH4       NaN   \n",
       "\n",
       "                longitude       price  \\\n",
       "property_index                          \n",
       "0                     NaN    £950 pcm   \n",
       "1                     NaN  £1,100 pcm   \n",
       "2                     NaN    £875 pcm   \n",
       "3                     NaN    £900 pcm   \n",
       "4                     NaN  £1,250 pcm   \n",
       "\n",
       "                                                      description  \\\n",
       "property_index                                                      \n",
       "0               Stunning double two bedroom, fully furnished a...   \n",
       "1               Available now – furnished – no pets – no stude...   \n",
       "2               Two bedroom property in Parkhead, Edinburgh, E...   \n",
       "3               Property Reference: 1276989.,Bright modern, fu...   \n",
       "4               This spacious property is accessed via a well ...   \n",
       "\n",
       "                                                         features number_beds  \\\n",
       "property_index                                                                  \n",
       "0                       Furnished,Central Heating,Private Parking      2 beds   \n",
       "1                                                             NaN       1 bed   \n",
       "2               Part furnished,Central Heating,No Smoking,No p...      2 beds   \n",
       "3               Furnished,No Agent Fees,Property Reference Num...      2 beds   \n",
       "4               Furnished,Central Heating,Private Parking,Park...      3 beds   \n",
       "\n",
       "               number_baths  \\\n",
       "property_index                \n",
       "0                       NaN   \n",
       "1                    1 bath   \n",
       "2                       NaN   \n",
       "3                    1 bath   \n",
       "4                       NaN   \n",
       "\n",
       "                                                           images  \\\n",
       "property_index                                                      \n",
       "0               https://lid.zoocdn.com/u/480/360/de9ff26fa8a20...   \n",
       "1               https://lid.zoocdn.com/u/480/360/a5a93c8c685e4...   \n",
       "2               https://lid.zoocdn.com/u/480/360/335dc83f702c8...   \n",
       "3               https://lid.zoocdn.com/u/480/360/24fbdf3eb834c...   \n",
       "4               https://lid.zoocdn.com/u/480/360/e9a54640963c7...   \n",
       "\n",
       "                                        letting_agent_name  \\\n",
       "property_index                                               \n",
       "0               Northwood Residential Lettings (Edinburgh)   \n",
       "1                                Clyde Property, Edinburgh   \n",
       "2                                                  Milards   \n",
       "3                                                 OpenRent   \n",
       "4                                       Connell & McFadden   \n",
       "\n",
       "                                 available_from  \n",
       "property_index                                   \n",
       "0                Available from 19 January 2022  \n",
       "1                         Available immediately  \n",
       "2               Available from 17 December 2021  \n",
       "3                Available from 08 January 2022  \n",
       "4                Available from 03 January 2022  "
      ]
     },
     "execution_count": 38,
     "metadata": {},
     "output_type": "execute_result"
    }
   ],
   "source": [
    "import pandas as pd\n",
    "import numpy as np\n",
    "import matplotlib.pyplot as plt\n",
    "pd.options.display.float_format='{:,.2f}'.format\n",
    "data=pd.read_csv('data_zoopla_edinburgh.csv')\n",
    "data.index.rename('property_index',inplace=True)\n",
    "data.head()"
   ]
  },
  {
   "cell_type": "code",
   "execution_count": 39,
   "metadata": {},
   "outputs": [
    {
     "name": "stderr",
     "output_type": "stream",
     "text": [
      "C:\\Users\\usuario\\AppData\\Local\\Temp/ipykernel_5956/814890878.py:1: FutureWarning: The default value of regex will change from True to False in a future version.\n",
      "  data['price']=data['price'].str.replace('[£, pcmw]','')\n",
      "C:\\Users\\usuario\\AppData\\Local\\Temp/ipykernel_5956/814890878.py:2: FutureWarning: The default value of regex will change from True to False in a future version.\n",
      "  data['number_beds']=data['number_beds'].str.replace('[beds ]','')\n",
      "C:\\Users\\usuario\\AppData\\Local\\Temp/ipykernel_5956/814890878.py:3: FutureWarning: The default value of regex will change from True to False in a future version.\n",
      "  data['number_baths']=data['number_baths'].str.replace('[ baths]','')\n"
     ]
    }
   ],
   "source": [
    "#Cleaning columns 'price','number_beds' and 'number_baths' \n",
    "#and converting them to numeric values\n",
    "\n",
    "data['price']=data['price'].str.replace('[£, pcmw]','')\n",
    "data['number_beds']=data['number_beds'].str.replace('[beds ]','')\n",
    "data['number_baths']=data['number_baths'].str.replace('[ baths]','')\n",
    "\n",
    "data['price']=pd.to_numeric(data['price'])\n",
    "data['number_beds']=pd.to_numeric(data['number_beds'])\n",
    "data['number_baths']=pd.to_numeric(data['number_baths'])"
   ]
  },
  {
   "cell_type": "code",
   "execution_count": 40,
   "metadata": {},
   "outputs": [
    {
     "name": "stderr",
     "output_type": "stream",
     "text": [
      "C:\\Users\\usuario\\AppData\\Local\\Temp/ipykernel_5956/2937408805.py:1: FutureWarning: The default value of regex will change from True to False in a future version.\n",
      "  data['available_from']=data['available_from'].str.replace(r'(Available from )?','')\n"
     ]
    }
   ],
   "source": [
    "#Cleaning columns 'available_from' \n",
    "#and converting it to datetime values\n",
    "\n",
    "data['available_from']=data['available_from'].str.replace(r'(Available from )?','')\n",
    "data['available_from']=pd.to_datetime(data['available_from'],errors='coerce')\n",
    "data['available_from'].fillna(pd.to_datetime('today'),inplace=True)\n"
   ]
  },
  {
   "cell_type": "code",
   "execution_count": 41,
   "metadata": {},
   "outputs": [
    {
     "name": "stdout",
     "output_type": "stream",
     "text": [
      "Number of agents: 85\n",
      "Number of properties: 446\n"
     ]
    }
   ],
   "source": [
    "#Brief analysis about number of letting agents \n",
    "#and number of properties available to rent\n",
    "\n",
    "number_of_agents=data['letting_agent_name'].value_counts().count()\n",
    "number_of_properties=data['letting_agent_name'].value_counts().sum()\n",
    "print('Number of agents: {}'.format(number_of_agents))\n",
    "print('Number of properties: {}'.format(number_of_properties))"
   ]
  },
  {
   "cell_type": "code",
   "execution_count": 42,
   "metadata": {},
   "outputs": [
    {
     "data": {
      "text/plain": [
       "DJ Alexander Lettings Ltd                    0.15\n",
       "Homelike Internet GmbH                       0.08\n",
       "Southside Property Management                0.08\n",
       "Murray & Currie Property                     0.05\n",
       "Houst Lets                                   0.04\n",
       "Ben Property Management Ltd                  0.04\n",
       "Rooks Estate Agents & Lettings               0.03\n",
       "OpenRent                                     0.03\n",
       "Northwood Residential Lettings (Edinburgh)   0.03\n",
       "Gilson Gray LLP                              0.03\n",
       "Name: Market share by agency. First 10 agencies, dtype: float64"
      ]
     },
     "execution_count": 42,
     "metadata": {},
     "output_type": "execute_result"
    }
   ],
   "source": [
    "#Market share in % for the 10 biggest agencies\n",
    "\n",
    "market_share=data['letting_agent_name'].value_counts().head(10)/data['letting_agent_name'].value_counts().sum()\n",
    "market_share=market_share.rename('Market share by agency. First 10 agencies')\n",
    "market_share"
   ]
  },
  {
   "cell_type": "code",
   "execution_count": null,
   "metadata": {},
   "outputs": [],
   "source": [
    "#Splitting images urls. This need more processing\n",
    "data['images']=data['images'].str.split(',')\n",
    "data['images']"
   ]
  },
  {
   "cell_type": "code",
   "execution_count": 44,
   "metadata": {},
   "outputs": [
    {
     "data": {
      "text/plain": [
       "0.2533632286995516"
      ]
     },
     "execution_count": 44,
     "metadata": {},
     "output_type": "execute_result"
    }
   ],
   "source": [
    "# Data available about coordinates\n",
    "(data[['latitude','longitude']].dropna().shape)[0]/(data[['latitude','longitude']].shape)[0]\n",
    "\n",
    "# Only 25% of the properties have coordinates. Another API that produces better results\n",
    "# must be evaluated"
   ]
  },
  {
   "cell_type": "code",
   "execution_count": 45,
   "metadata": {},
   "outputs": [
    {
     "data": {
      "text/plain": [
       "<AxesSubplot:ylabel='Frequency'>"
      ]
     },
     "execution_count": 45,
     "metadata": {},
     "output_type": "execute_result"
    },
    {
     "data": {
      "image/png": "[encoded data removed]",
      "text/plain": [
       "<Figure size 432x288 with 1 Axes>"
      ]
     },
     "metadata": {
      "needs_background": "light"
     },
     "output_type": "display_data"
    }
   ],
   "source": [
    "#First histogram of rent prices\n",
    "\n",
    "data['price'].plot(kind='hist')\n",
    "\n",
    "#Most of the properties have rents below 2500pcm"
   ]
  },
  {
   "cell_type": "code",
   "execution_count": 147,
   "metadata": {},
   "outputs": [
    {
     "data": {
      "text/plain": [
       "Text(0, 0.5, 'Number of properties available')"
      ]
     },
     "execution_count": 147,
     "metadata": {},
     "output_type": "execute_result"
    },
    {
     "data": {
      "image/png": "[encoded data removed]",
      "text/plain": [
       "<Figure size 720x360 with 1 Axes>"
      ]
     },
     "metadata": {
      "needs_background": "light"
     },
     "output_type": "display_data"
    }
   ],
   "source": [
    "#Histogram with rents below 2500pcm\n",
    "\n",
    "fig,ax=plt.subplots(figsize=(10,5))\n",
    "data_less_2500=data[data['price']<=2500]\n",
    "ax.hist(data_less_2500['price'],bins=np.arange(0,2500,125))\n",
    "ax.set_xticks(np.arange(0,2500,250))\n",
    "ax.set_xlabel('Monthly rent',fontsize=12,fontweight='heavy')\n",
    "ax.set_ylabel('Number of properties available',fontsize=12,fontweight='heavy')\n",
    "\n",
    "#There is a huge offer for properties from above 750pcm"
   ]
  },
  {
   "cell_type": "code",
   "execution_count": 158,
   "metadata": {},
   "outputs": [
    {
     "name": "stderr",
     "output_type": "stream",
     "text": [
      "C:\\Users\\usuario\\AppData\\Local\\Temp/ipykernel_5956/3907283776.py:3: FutureWarning: The pandas.datetime class is deprecated and will be removed from pandas in a future version. Import from datetime module instead.\n",
      "  data['waiting_period_days']=data['available_from'].apply(lambda x:(x-pd.datetime.now()).days)\n"
     ]
    },
    {
     "data": {
      "text/plain": [
       "Text(0, 0.5, 'Number of properties available')"
      ]
     },
     "execution_count": 158,
     "metadata": {},
     "output_type": "execute_result"
    },
    {
     "data": {
      "image/png": "[encoded data removed]",
      "text/plain": [
       "<Figure size 432x288 with 1 Axes>"
      ]
     },
     "metadata": {
      "needs_background": "light"
     },
     "output_type": "display_data"
    }
   ],
   "source": [
    "fig,ax=plt.subplots()\n",
    "\n",
    "data['waiting_period_days']=data['available_from'].apply(lambda x:(x-pd.datetime.now()).days)\n",
    "\n",
    "waiting_period_days_after_3_days=data[(data['waiting_period_days']<100) & (data['waiting_period_days']>3)]['waiting_period_days']\n",
    "waiting_period_days_after_3_days\n",
    "ax.hist(waiting_period_days_after_3_days.values,bins=np.arange(0,100,10))\n",
    "ax.set_xticks(np.arange(0,100,10))\n",
    "ax.set_xlabel('Waiting period (days)',fontsize=12,fontweight='heavy')\n",
    "ax.set_ylabel('Number of properties available',fontsize=12,fontweight='heavy')\n"
   ]
  },
  {
   "cell_type": "code",
   "execution_count": null,
   "metadata": {},
   "outputs": [],
   "source": []
  }
 ],
 "metadata": {
  "interpreter": {
   "hash": "c446ddd83af36fc01aab2b533d93a7f4bd5fb15c3102c2de835f62aca8c0a54c"
  },
  "kernelspec": {
   "display_name": "Python 3.9.9 64-bit (system)",
   "language": "python",
   "name": "python3"
  },
  "language_info": {
   "codemirror_mode": {
    "name": "ipython",
    "version": 3
   },
   "file_extension": ".py",
   "mimetype": "text/x-python",
   "name": "python",
   "nbconvert_exporter": "python",
   "pygments_lexer": "ipython3",
   "version": "3.9.9"
  },
  "orig_nbformat": 4
 },
 "nbformat": 4,
 "nbformat_minor": 2
}
